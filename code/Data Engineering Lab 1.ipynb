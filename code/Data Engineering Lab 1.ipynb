{
 "cells": [
  {
   "cell_type": "markdown",
   "id": "3053f906",
   "metadata": {},
   "source": [
    "<img src=https://d1.awsstatic.com/logos/aws-logo-lockups/poweredbyaws/PB_AWS_logo_RGB_REV_SQ.8c88ac215fe4e441dc42865dd6962ed4f444a90d.png width=\"350\">\n",
    "\n",
    "# <center> Data Engineering Lab 1 </center>\n",
    "<center><b> Data Architect: </b> Carlos Contreras </center>"
   ]
  },
  {
   "cell_type": "markdown",
   "id": "5c0a2277",
   "metadata": {},
   "source": [
    "Dataset and metadata details; i.e. column definitions, at the [USA Bureau of Transport Statistics URL](https://www.transtats.bts.gov/DL_SelectFields.asp?gnoyr_VQ=FGK&QO_fu146_anzr=b0-gvzr)"
   ]
  },
  {
   "cell_type": "code",
   "execution_count": 1,
   "id": "4227d851",
   "metadata": {},
   "outputs": [
    {
     "name": "stdout",
     "output_type": "stream",
     "text": [
      "Starting Spark application\n"
     ]
    },
    {
     "data": {
      "text/html": [
       "<table>\n",
       "<tr><th>ID</th><th>YARN Application ID</th><th>Kind</th><th>State</th><th>Spark UI</th><th>Driver log</th><th>User</th><th>Current session?</th></tr><tr><td>1</td><td>application_1662381385407_0002</td><td>pyspark</td><td>idle</td><td><a target=\"_blank\" href=\"http://ip-172-35-199-167.ec2.internal:20888/proxy/application_1662381385407_0002/\">Link</a></td><td><a target=\"_blank\" href=\"http://ip-172-35-102-182.ec2.internal:8042/node/containerlogs/container_1662381385407_0002_01_000001/livy\">Link</a></td><td>None</td><td>✔</td></tr></table>"
      ],
      "text/plain": [
       "<IPython.core.display.HTML object>"
      ]
     },
     "metadata": {},
     "output_type": "display_data"
    },
    {
     "data": {
      "application/vnd.jupyter.widget-view+json": {
       "model_id": "",
       "version_major": 2,
       "version_minor": 0
      },
      "text/plain": [
       "FloatProgress(value=0.0, bar_style='info', description='Progress:', layout=Layout(height='25px', width='50%'),…"
      ]
     },
     "metadata": {},
     "output_type": "display_data"
    },
    {
     "name": "stdout",
     "output_type": "stream",
     "text": [
      "SparkSession available as 'spark'.\n"
     ]
    },
    {
     "data": {
      "application/vnd.jupyter.widget-view+json": {
       "model_id": "",
       "version_major": 2,
       "version_minor": 0
      },
      "text/plain": [
       "FloatProgress(value=0.0, bar_style='info', description='Progress:', layout=Layout(height='25px', width='50%'),…"
      ]
     },
     "metadata": {},
     "output_type": "display_data"
    }
   ],
   "source": [
    "import sys\n",
    "from awsglue.transforms import *\n",
    "from awsglue.dynamicframe import DynamicFrame\n",
    "from awsglue.utils import getResolvedOptions\n",
    "from pyspark.context import SparkContext\n",
    "from awsglue.context import GlueContext\n",
    "from awsglue.job import Job\n",
    "\n",
    "# Other Libs for the ETL\n",
    "from datetime import datetime, timedelta\n",
    "from pyspark.sql.functions import lit, to_date, max as _max, date_sub, col"
   ]
  },
  {
   "cell_type": "code",
   "execution_count": 2,
   "id": "da6ed431",
   "metadata": {},
   "outputs": [
    {
     "data": {
      "application/vnd.jupyter.widget-view+json": {
       "model_id": "",
       "version_major": 2,
       "version_minor": 0
      },
      "text/plain": [
       "FloatProgress(value=0.0, bar_style='info', description='Progress:', layout=Layout(height='25px', width='50%'),…"
      ]
     },
     "metadata": {},
     "output_type": "display_data"
    }
   ],
   "source": [
    "# Spark settings\n",
    "sc = SparkContext.getOrCreate()\n",
    "glueContext = GlueContext(sc)"
   ]
  },
  {
   "cell_type": "markdown",
   "id": "e06b89c4",
   "metadata": {},
   "source": [
    "#### Parameters below, to be set as Job input parameters (not hard-coded)"
   ]
  },
  {
   "cell_type": "code",
   "execution_count": 4,
   "id": "a6fa424e",
   "metadata": {},
   "outputs": [
    {
     "data": {
      "application/vnd.jupyter.widget-view+json": {
       "model_id": "",
       "version_major": 2,
       "version_minor": 0
      },
      "text/plain": [
       "FloatProgress(value=0.0, bar_style='info', description='Progress:', layout=Layout(height='25px', width='50%'),…"
      ]
     },
     "metadata": {},
     "output_type": "display_data"
    }
   ],
   "source": [
    "# Set the BUCKET name\n",
    "BUCKET_NAME = 'acd-bayarea-2022-graphdb-dev'\n",
    "# Source data path. \n",
    "s3_file_full_path = f's3://{BUCKET_NAME}/flight-performance-raw-csv-sample/'\n",
    "\n",
    "# Job params\n",
    "input_last_days_to_filter = 7\n",
    "s3_vertices_location = f's3://{BUCKET_NAME}/neptune-flight-stats-graph-data/vertices/'\n",
    "s3_edges_location = f's3://{BUCKET_NAME}/neptune-flight-stats-graph-data/edges/'"
   ]
  },
  {
   "cell_type": "code",
   "execution_count": 5,
   "id": "fa3bd2df",
   "metadata": {},
   "outputs": [
    {
     "data": {
      "application/vnd.jupyter.widget-view+json": {
       "model_id": "",
       "version_major": 2,
       "version_minor": 0
      },
      "text/plain": [
       "FloatProgress(value=0.0, bar_style='info', description='Progress:', layout=Layout(height='25px', width='50%'),…"
      ]
     },
     "metadata": {},
     "output_type": "display_data"
    }
   ],
   "source": [
    "# DF\n",
    "df_flight_stats_raw = glueContext.create_dynamic_frame.from_options(\n",
    "    's3',\n",
    "    {'paths': [s3_file_full_path]},\n",
    "    'csv',\n",
    "    {'withHeader': True}).toDF()"
   ]
  },
  {
   "cell_type": "code",
   "execution_count": 6,
   "id": "263727b8",
   "metadata": {},
   "outputs": [
    {
     "data": {
      "application/vnd.jupyter.widget-view+json": {
       "model_id": "",
       "version_major": 2,
       "version_minor": 0
      },
      "text/plain": [
       "FloatProgress(value=0.0, bar_style='info', description='Progress:', layout=Layout(height='25px', width='50%'),…"
      ]
     },
     "metadata": {},
     "output_type": "display_data"
    },
    {
     "name": "stdout",
     "output_type": "stream",
     "text": [
      "root\n",
      " |-- YEAR: string (nullable = true)\n",
      " |-- QUARTER: string (nullable = true)\n",
      " |-- MONTH: string (nullable = true)\n",
      " |-- DAY_OF_MONTH: string (nullable = true)\n",
      " |-- DAY_OF_WEEK: string (nullable = true)\n",
      " |-- FL_DATE: string (nullable = true)\n",
      " |-- MKT_UNIQUE_CARRIER: string (nullable = true)\n",
      " |-- BRANDED_CODE_SHARE: string (nullable = true)\n",
      " |-- MKT_CARRIER_AIRLINE_ID: string (nullable = true)\n",
      " |-- MKT_CARRIER: string (nullable = true)\n",
      " |-- MKT_CARRIER_FL_NUM: string (nullable = true)\n",
      " |-- SCH_OP_UNIQUE_CARRIER: string (nullable = true)\n",
      " |-- SCH_OP_CARRIER_AIRLINE_ID: string (nullable = true)\n",
      " |-- SCH_OP_CARRIER: string (nullable = true)\n",
      " |-- SCH_OP_CARRIER_FL_NUM: string (nullable = true)\n",
      " |-- OP_UNIQUE_CARRIER: string (nullable = true)\n",
      " |-- OP_CARRIER_AIRLINE_ID: string (nullable = true)\n",
      " |-- OP_CARRIER: string (nullable = true)\n",
      " |-- TAIL_NUM: string (nullable = true)\n",
      " |-- OP_CARRIER_FL_NUM: string (nullable = true)\n",
      " |-- ORIGIN_AIRPORT_ID: string (nullable = true)\n",
      " |-- ORIGIN_AIRPORT_SEQ_ID: string (nullable = true)\n",
      " |-- ORIGIN_CITY_MARKET_ID: string (nullable = true)\n",
      " |-- ORIGIN: string (nullable = true)\n",
      " |-- ORIGIN_CITY_NAME: string (nullable = true)\n",
      " |-- ORIGIN_STATE_ABR: string (nullable = true)\n",
      " |-- ORIGIN_STATE_FIPS: string (nullable = true)\n",
      " |-- ORIGIN_STATE_NM: string (nullable = true)\n",
      " |-- ORIGIN_WAC: string (nullable = true)\n",
      " |-- DEST_AIRPORT_ID: string (nullable = true)\n",
      " |-- DEST_AIRPORT_SEQ_ID: string (nullable = true)\n",
      " |-- DEST_CITY_MARKET_ID: string (nullable = true)\n",
      " |-- DEST: string (nullable = true)\n",
      " |-- DEST_CITY_NAME: string (nullable = true)\n",
      " |-- DEST_STATE_ABR: string (nullable = true)\n",
      " |-- DEST_STATE_NM: string (nullable = true)\n",
      " |-- DEST_WAC: string (nullable = true)\n",
      " |-- CRS_DEP_TIME: string (nullable = true)\n",
      " |-- DEP_TIME: string (nullable = true)\n",
      " |-- DEP_DELAY: string (nullable = true)\n",
      " |-- DEP_DELAY_NEW: string (nullable = true)\n",
      " |-- DEP_DEL15: string (nullable = true)\n",
      " |-- DEP_DELAY_GROUP: string (nullable = true)\n",
      " |-- DEP_TIME_BLK: string (nullable = true)\n",
      " |-- TAXI_OUT: string (nullable = true)\n",
      " |-- WHEELS_OFF: string (nullable = true)\n",
      " |-- WHEELS_ON: string (nullable = true)\n",
      " |-- TAXI_IN: string (nullable = true)\n",
      " |-- CRS_ARR_TIME: string (nullable = true)\n",
      " |-- ARR_TIME: string (nullable = true)\n",
      " |-- ARR_DELAY: string (nullable = true)\n",
      " |-- ARR_DELAY_NEW: string (nullable = true)\n",
      " |-- ARR_DEL15: string (nullable = true)\n",
      " |-- ARR_DELAY_GROUP: string (nullable = true)\n",
      " |-- ARR_TIME_BLK: string (nullable = true)\n",
      " |-- CANCELLED: string (nullable = true)\n",
      " |-- CANCELLATION_CODE: string (nullable = true)\n",
      " |-- DIVERTED: string (nullable = true)\n",
      " |-- DUP: string (nullable = true)\n",
      " |-- CRS_ELAPSED_TIME: string (nullable = true)\n",
      " |-- ACTUAL_ELAPSED_TIME: string (nullable = true)\n",
      " |-- AIR_TIME: string (nullable = true)\n",
      " |-- FLIGHTS: string (nullable = true)\n",
      " |-- DISTANCE: string (nullable = true)\n",
      " |-- DISTANCE_GROUP: string (nullable = true)\n",
      " |-- CARRIER_DELAY: string (nullable = true)\n",
      " |-- WEATHER_DELAY: string (nullable = true)\n",
      " |-- NAS_DELAY: string (nullable = true)\n",
      " |-- SECURITY_DELAY: string (nullable = true)\n",
      " |-- LATE_AIRCRAFT_DELAY: string (nullable = true)\n",
      " |-- FIRST_DEP_TIME: string (nullable = true)\n",
      " |-- TOTAL_ADD_GTIME: string (nullable = true)\n",
      " |-- LONGEST_ADD_GTIME: string (nullable = true)\n",
      " |-- DIV_AIRPORT_LANDINGS: string (nullable = true)\n",
      " |-- DIV_REACHED_DEST: string (nullable = true)\n",
      " |-- DIV_ACTUAL_ELAPSED_TIME: string (nullable = true)\n",
      " |-- DIV_ARR_DELAY: string (nullable = true)\n",
      " |-- DIV_DISTANCE: string (nullable = true)\n",
      " |-- DIV1_AIRPORT: string (nullable = true)\n",
      " |-- DIV1_AIRPORT_ID: string (nullable = true)\n",
      " |-- DIV1_AIRPORT_SEQ_ID: string (nullable = true)\n",
      " |-- DIV1_WHEELS_ON: string (nullable = true)\n",
      " |-- DIV1_TOTAL_GTIME: string (nullable = true)\n",
      " |-- DIV1_LONGEST_GTIME: string (nullable = true)\n",
      " |-- DIV1_WHEELS_OFF: string (nullable = true)\n",
      " |-- DIV1_TAIL_NUM: string (nullable = true)\n",
      " |-- DIV2_AIRPORT: string (nullable = true)\n",
      " |-- DIV2_AIRPORT_ID: string (nullable = true)\n",
      " |-- DIV2_AIRPORT_SEQ_ID: string (nullable = true)\n",
      " |-- DIV2_WHEELS_ON: string (nullable = true)\n",
      " |-- DIV2_TOTAL_GTIME: string (nullable = true)\n",
      " |-- DIV2_LONGEST_GTIME: string (nullable = true)\n",
      " |-- DIV2_WHEELS_OFF: string (nullable = true)\n",
      " |-- DIV2_TAIL_NUM: string (nullable = true)\n",
      " |-- DIV3_AIRPORT: string (nullable = true)\n",
      " |-- DIV3_AIRPORT_ID: string (nullable = true)\n",
      " |-- DIV3_AIRPORT_SEQ_ID: string (nullable = true)\n",
      " |-- DIV3_WHEELS_ON: string (nullable = true)\n",
      " |-- DIV3_TOTAL_GTIME: string (nullable = true)\n",
      " |-- DIV3_LONGEST_GTIME: string (nullable = true)\n",
      " |-- DIV3_WHEELS_OFF: string (nullable = true)\n",
      " |-- DIV3_TAIL_NUM: string (nullable = true)\n",
      " |-- DIV4_AIRPORT: string (nullable = true)\n",
      " |-- DIV4_AIRPORT_ID: string (nullable = true)\n",
      " |-- DIV4_AIRPORT_SEQ_ID: string (nullable = true)\n",
      " |-- DIV4_WHEELS_ON: string (nullable = true)\n",
      " |-- DIV4_TOTAL_GTIME: string (nullable = true)\n",
      " |-- DIV4_LONGEST_GTIME: string (nullable = true)\n",
      " |-- DIV4_WHEELS_OFF: string (nullable = true)\n",
      " |-- DIV4_TAIL_NUM: string (nullable = true)\n",
      " |-- DIV5_AIRPORT: string (nullable = true)\n",
      " |-- DIV5_AIRPORT_ID: string (nullable = true)\n",
      " |-- DIV5_AIRPORT_SEQ_ID: string (nullable = true)\n",
      " |-- DIV5_WHEELS_ON: string (nullable = true)\n",
      " |-- DIV5_TOTAL_GTIME: string (nullable = true)\n",
      " |-- DIV5_LONGEST_GTIME: string (nullable = true)\n",
      " |-- DIV5_WHEELS_OFF: string (nullable = true)\n",
      " |-- DIV5_TAIL_NUM: string (nullable = true)\n",
      " |-- : string (nullable = true)"
     ]
    }
   ],
   "source": [
    "# Temporary print dataset / dataFrame Schema\n",
    "df_flight_stats_raw.printSchema()"
   ]
  },
  {
   "cell_type": "markdown",
   "id": "b50fbaa0",
   "metadata": {},
   "source": [
    "**Performance note**: To improve the execution plan, avoid PRINTS (e.g. SHOW()) like the one below, \n",
    "                    on real Spark Jobs (i.e. not like in Jupyter). "
   ]
  },
  {
   "cell_type": "code",
   "execution_count": 7,
   "id": "1ab498e4",
   "metadata": {},
   "outputs": [
    {
     "data": {
      "application/vnd.jupyter.widget-view+json": {
       "model_id": "",
       "version_major": 2,
       "version_minor": 0
      },
      "text/plain": [
       "FloatProgress(value=0.0, bar_style='info', description='Progress:', layout=Layout(height='25px', width='50%'),…"
      ]
     },
     "metadata": {},
     "output_type": "display_data"
    },
    {
     "name": "stdout",
     "output_type": "stream",
     "text": [
      "+----------+-----------------+----------------+---------------+--------------+\n",
      "|   FL_DATE|ORIGIN_AIRPORT_ID|ORIGIN_CITY_NAME|DEST_AIRPORT_ID|DEST_CITY_NAME|\n",
      "+----------+-----------------+----------------+---------------+--------------+\n",
      "|2018-01-23|            10146|      Albany, GA|          10397|   Atlanta, GA|\n",
      "|2018-01-24|            10146|      Albany, GA|          10397|   Atlanta, GA|\n",
      "|2018-01-25|            10146|      Albany, GA|          10397|   Atlanta, GA|\n",
      "|2018-01-26|            10146|      Albany, GA|          10397|   Atlanta, GA|\n",
      "|2018-01-27|            10146|      Albany, GA|          10397|   Atlanta, GA|\n",
      "|2018-01-28|            10146|      Albany, GA|          10397|   Atlanta, GA|\n",
      "|2018-01-29|            10146|      Albany, GA|          10397|   Atlanta, GA|\n",
      "|2018-01-30|            10146|      Albany, GA|          10397|   Atlanta, GA|\n",
      "|2018-01-31|            10146|      Albany, GA|          10397|   Atlanta, GA|\n",
      "|2018-01-03|            10397|     Atlanta, GA|          10146|    Albany, GA|\n",
      "|2018-01-04|            10397|     Atlanta, GA|          10146|    Albany, GA|\n",
      "|2018-01-05|            10397|     Atlanta, GA|          10146|    Albany, GA|\n",
      "|2018-01-06|            10397|     Atlanta, GA|          10146|    Albany, GA|\n",
      "|2018-01-07|            10397|     Atlanta, GA|          10146|    Albany, GA|\n",
      "|2018-01-08|            10397|     Atlanta, GA|          10146|    Albany, GA|\n",
      "|2018-01-09|            10397|     Atlanta, GA|          10146|    Albany, GA|\n",
      "|2018-01-10|            10397|     Atlanta, GA|          10146|    Albany, GA|\n",
      "|2018-01-11|            10397|     Atlanta, GA|          10146|    Albany, GA|\n",
      "|2018-01-12|            10397|     Atlanta, GA|          10146|    Albany, GA|\n",
      "|2018-01-13|            10397|     Atlanta, GA|          10146|    Albany, GA|\n",
      "+----------+-----------------+----------------+---------------+--------------+\n",
      "only showing top 20 rows"
     ]
    }
   ],
   "source": [
    "# Temporary print dataset sample\n",
    "df_flight_stats_raw.select('FL_DATE','ORIGIN_AIRPORT_ID','ORIGIN_CITY_NAME','DEST_AIRPORT_ID','DEST_CITY_NAME').show()"
   ]
  },
  {
   "cell_type": "markdown",
   "id": "14dbb736",
   "metadata": {},
   "source": [
    "### Get max Flight date from S3 partition, to limit the last N days\n",
    "\n",
    "<br>\n",
    "\n",
    "- This might not be necessary, since you might ingest the entire incremental new dataset\n",
    "\n",
    "<br>"
   ]
  },
  {
   "cell_type": "code",
   "execution_count": 8,
   "id": "04c48ce1",
   "metadata": {},
   "outputs": [
    {
     "data": {
      "application/vnd.jupyter.widget-view+json": {
       "model_id": "",
       "version_major": 2,
       "version_minor": 0
      },
      "text/plain": [
       "FloatProgress(value=0.0, bar_style='info', description='Progress:', layout=Layout(height='25px', width='50%'),…"
      ]
     },
     "metadata": {},
     "output_type": "display_data"
    }
   ],
   "source": [
    "# FL_DATE cast data type\n",
    "df_flight_stats = df_flight_stats_raw.withColumn('FL_DATE',to_date(df_flight_stats_raw.FL_DATE, 'yyyy-MM-dd'))"
   ]
  },
  {
   "cell_type": "code",
   "execution_count": 9,
   "id": "90cbcfcb",
   "metadata": {},
   "outputs": [
    {
     "data": {
      "application/vnd.jupyter.widget-view+json": {
       "model_id": "",
       "version_major": 2,
       "version_minor": 0
      },
      "text/plain": [
       "FloatProgress(value=0.0, bar_style='info', description='Progress:', layout=Layout(height='25px', width='50%'),…"
      ]
     },
     "metadata": {},
     "output_type": "display_data"
    }
   ],
   "source": [
    "# Get max date\n",
    "flight_date_max = df_flight_stats.select(_max('FL_DATE')).first()[0]"
   ]
  },
  {
   "cell_type": "code",
   "execution_count": 10,
   "id": "a2cd8b01",
   "metadata": {},
   "outputs": [
    {
     "data": {
      "application/vnd.jupyter.widget-view+json": {
       "model_id": "",
       "version_major": 2,
       "version_minor": 0
      },
      "text/plain": [
       "FloatProgress(value=0.0, bar_style='info', description='Progress:', layout=Layout(height='25px', width='50%'),…"
      ]
     },
     "metadata": {},
     "output_type": "display_data"
    }
   ],
   "source": [
    "# Days to store in graph\n",
    "last_days_to_filter = timedelta(input_last_days_to_filter)\n",
    "flight_date_max_minus_n_days = flight_date_max-last_days_to_filter"
   ]
  },
  {
   "cell_type": "code",
   "execution_count": 11,
   "id": "2d9a6211",
   "metadata": {},
   "outputs": [
    {
     "data": {
      "application/vnd.jupyter.widget-view+json": {
       "model_id": "",
       "version_major": 2,
       "version_minor": 0
      },
      "text/plain": [
       "FloatProgress(value=0.0, bar_style='info', description='Progress:', layout=Layout(height='25px', width='50%'),…"
      ]
     },
     "metadata": {},
     "output_type": "display_data"
    }
   ],
   "source": [
    "# Collect last 7 days\n",
    "df_flight_stats = df_flight_stats.where(col('FL_DATE') >= lit(str(flight_date_max_minus_n_days)))"
   ]
  },
  {
   "cell_type": "markdown",
   "id": "572de6bd",
   "metadata": {},
   "source": [
    "---"
   ]
  },
  {
   "cell_type": "markdown",
   "id": "47c11191",
   "metadata": {},
   "source": [
    "## Creating Edges File, for a Time-Series graph"
   ]
  },
  {
   "cell_type": "markdown",
   "id": "ecd1a9e2",
   "metadata": {},
   "source": [
    "Pseudo-columns for Edges file:\n",
    "\n",
    "- ORIGIN_AIRPORT_ID to be converted as ~from\n",
    "- DEST_AIRPORT_ID to be converted as ~to\n",
    "\n",
    "Label columns: \n",
    "\n",
    "- String **flight_connection** to be added as ~label\n",
    "\n",
    "Time-series columns: \n",
    "\n",
    "- DISTANCE \n",
    "- ORIGIN_CITY_NAME\n",
    "- DEST_CITY_NAME\n",
    "- MKT_CARRIER_FL_NUM\n",
    "- MKT_UNIQUE_CARRIER\n",
    "- FL_DATE\n",
    "- DEP_DELAY\n",
    "- DEP_DEL15\n",
    "- ARR_DELAY\n",
    "- ARR_DEL15\n",
    "- CANCELLED\n",
    "- ACTUAL_ELAPSED_TIME\n",
    "- WEATHER_DELAY\n",
    "- SECURITY_DELAY"
   ]
  },
  {
   "cell_type": "code",
   "execution_count": 12,
   "id": "94ac9dbc",
   "metadata": {},
   "outputs": [
    {
     "data": {
      "application/vnd.jupyter.widget-view+json": {
       "model_id": "",
       "version_major": 2,
       "version_minor": 0
      },
      "text/plain": [
       "FloatProgress(value=0.0, bar_style='info', description='Progress:', layout=Layout(height='25px', width='50%'),…"
      ]
     },
     "metadata": {},
     "output_type": "display_data"
    }
   ],
   "source": [
    "# Collect columns we require.\n",
    "df_edges_file = df_flight_stats.select('ORIGIN_AIRPORT_ID','ORIGIN','DEST_AIRPORT_ID','DEST','ORIGIN_CITY_NAME',\n",
    "                                       'DEST_CITY_NAME',\n",
    "                                       'MKT_UNIQUE_CARRIER','MKT_CARRIER_FL_NUM','DISTANCE','FL_DATE',\n",
    "                                       'DEP_DELAY','DEP_DEL15','ARR_DELAY','ARR_DEL15','CANCELLED',\n",
    "                                       'ACTUAL_ELAPSED_TIME','WEATHER_DELAY','SECURITY_DELAY')"
   ]
  },
  {
   "cell_type": "code",
   "execution_count": 13,
   "id": "2ed6edf1",
   "metadata": {},
   "outputs": [
    {
     "data": {
      "application/vnd.jupyter.widget-view+json": {
       "model_id": "",
       "version_major": 2,
       "version_minor": 0
      },
      "text/plain": [
       "FloatProgress(value=0.0, bar_style='info', description='Progress:', layout=Layout(height='25px', width='50%'),…"
      ]
     },
     "metadata": {},
     "output_type": "display_data"
    }
   ],
   "source": [
    "# Adding new column with label \"route\", defined as Integer\n",
    "df_edges_file = df_edges_file.withColumn('~label', lit('flight_connection'))"
   ]
  },
  {
   "cell_type": "code",
   "execution_count": 14,
   "id": "4e0c7e32",
   "metadata": {},
   "outputs": [
    {
     "data": {
      "application/vnd.jupyter.widget-view+json": {
       "model_id": "",
       "version_major": 2,
       "version_minor": 0
      },
      "text/plain": [
       "FloatProgress(value=0.0, bar_style='info', description='Progress:', layout=Layout(height='25px', width='50%'),…"
      ]
     },
     "metadata": {},
     "output_type": "display_data"
    }
   ],
   "source": [
    "# Rename columns, to make it Neptune-Gremlin-compatible and more human-readable\n",
    "df_edges_file = df_edges_file.withColumnRenamed('ORIGIN_AIRPORT_ID','~from')\\\n",
    "                        .withColumnRenamed('DEST_AIRPORT_ID','~to')\\\n",
    "                        .withColumnRenamed('ORIGIN','ORIGIN_CODE:string')\\\n",
    "                        .withColumnRenamed('DEST','DESTINATION_CODE:string')\\\n",
    "                        .withColumnRenamed('ORIGIN_CITY_NAME','ORIGIN_CITY_NAME:string')\\\n",
    "                        .withColumnRenamed('DEST_CITY_NAME','DESTINATION_CITY_NAME:string')\\\n",
    "                        .withColumnRenamed('MKT_UNIQUE_CARRIER','CARRIER_NAME:int')\\\n",
    "                        .withColumnRenamed('MKT_CARRIER_FL_NUM','CARRIER_FLIGHT_NUM:int')\\\n",
    "                        .withColumnRenamed('DISTANCE','DISTANCE:int')\\\n",
    "                        .withColumnRenamed('FL_DATE','FLIGHT_DATE:date')\\\n",
    "                        .withColumnRenamed('DEP_DELAY','DEPARTURE_DELAY:int')\\\n",
    "                        .withColumnRenamed('DEP_DEL15','DEPARTURE_DELAY_15MIN:int')\\\n",
    "                        .withColumnRenamed('ARR_DELAY','ARRIVAL_DELAY:int')\\\n",
    "                        .withColumnRenamed('ARR_DEL15','ARRIVAL_DELAY_15MIN:int')\\\n",
    "                        .withColumnRenamed('CANCELLED','CANCELLED:int')\\\n",
    "                        .withColumnRenamed('ACTUAL_ELAPSED_TIME','ACTUAL_ELAPSED_TIME:int')\\\n",
    "                        .withColumnRenamed('WEATHER_DELAY','WEATHER_DELAY:int')\\\n",
    "                        .withColumnRenamed('SECURITY_DELAY','SECURITY_DELAY:int')"
   ]
  },
  {
   "cell_type": "code",
   "execution_count": 15,
   "id": "b80fd99f",
   "metadata": {},
   "outputs": [
    {
     "data": {
      "application/vnd.jupyter.widget-view+json": {
       "model_id": "",
       "version_major": 2,
       "version_minor": 0
      },
      "text/plain": [
       "FloatProgress(value=0.0, bar_style='info', description='Progress:', layout=Layout(height='25px', width='50%'),…"
      ]
     },
     "metadata": {},
     "output_type": "display_data"
    },
    {
     "name": "stdout",
     "output_type": "stream",
     "text": [
      "+-----+-----+-----------------+----------------+\n",
      "|~from|  ~to|           ~label|FLIGHT_DATE:date|\n",
      "+-----+-----+-----------------+----------------+\n",
      "|10146|10397|flight_connection|      2018-01-24|\n",
      "|10146|10397|flight_connection|      2018-01-25|\n",
      "|10146|10397|flight_connection|      2018-01-26|\n",
      "|10146|10397|flight_connection|      2018-01-27|\n",
      "|10146|10397|flight_connection|      2018-01-28|\n",
      "|10146|10397|flight_connection|      2018-01-29|\n",
      "|10146|10397|flight_connection|      2018-01-30|\n",
      "|10146|10397|flight_connection|      2018-01-31|\n",
      "|10397|10146|flight_connection|      2018-01-24|\n",
      "|10397|10146|flight_connection|      2018-01-25|\n",
      "|10397|10146|flight_connection|      2018-01-26|\n",
      "|10397|10146|flight_connection|      2018-01-27|\n",
      "|10397|10146|flight_connection|      2018-01-28|\n",
      "|10397|10146|flight_connection|      2018-01-29|\n",
      "|10397|10146|flight_connection|      2018-01-30|\n",
      "|10397|10146|flight_connection|      2018-01-31|\n",
      "|10397|11612|flight_connection|      2018-01-24|\n",
      "|10397|11612|flight_connection|      2018-01-25|\n",
      "|10397|11612|flight_connection|      2018-01-26|\n",
      "|10397|11612|flight_connection|      2018-01-29|\n",
      "+-----+-----+-----------------+----------------+\n",
      "only showing top 20 rows"
     ]
    }
   ],
   "source": [
    "# Print sample\n",
    "df_edges_file.select('~from','~to','~label','FLIGHT_DATE:date').show()"
   ]
  },
  {
   "cell_type": "markdown",
   "id": "b9b670c3",
   "metadata": {},
   "source": [
    "#### Writing data to Amazon S3"
   ]
  },
  {
   "cell_type": "code",
   "execution_count": 16,
   "id": "cd27c6dc",
   "metadata": {},
   "outputs": [
    {
     "data": {
      "application/vnd.jupyter.widget-view+json": {
       "model_id": "",
       "version_major": 2,
       "version_minor": 0
      },
      "text/plain": [
       "FloatProgress(value=0.0, bar_style='info', description='Progress:', layout=Layout(height='25px', width='50%'),…"
      ]
     },
     "metadata": {},
     "output_type": "display_data"
    }
   ],
   "source": [
    "# Writing data to Amazon S3\n",
    "df_edges_file = df_edges_file.repartition(1)\n",
    "df_edges_file.write.mode(\"append\").format(\"csv\").option(\"header\", \"true\").save(s3_edges_location)"
   ]
  },
  {
   "cell_type": "markdown",
   "id": "747c024c",
   "metadata": {},
   "source": [
    "---"
   ]
  },
  {
   "cell_type": "markdown",
   "id": "09be1760",
   "metadata": {},
   "source": [
    "## Creating Vertices File"
   ]
  },
  {
   "cell_type": "code",
   "execution_count": 17,
   "id": "65d67723",
   "metadata": {},
   "outputs": [
    {
     "data": {
      "application/vnd.jupyter.widget-view+json": {
       "model_id": "",
       "version_major": 2,
       "version_minor": 0
      },
      "text/plain": [
       "FloatProgress(value=0.0, bar_style='info', description='Progress:', layout=Layout(height='25px', width='50%'),…"
      ]
     },
     "metadata": {},
     "output_type": "display_data"
    }
   ],
   "source": [
    "# Collect columns we require.\n",
    "df_vertices_file = df_flight_stats.\\\n",
    "                          select(col('ORIGIN_AIRPORT_ID').alias('~id'),\n",
    "                                 col('ORIGIN').alias('ORIGIN_CODE:string'),\n",
    "                                 col('ORIGIN_CITY_NAME').alias('CITY_NAME:string'))\\\n",
    "                   .union(df_flight_stats.\\\n",
    "                          select(col('DEST_AIRPORT_ID').alias('~id'),\n",
    "                                 col('DEST').alias('DESTINATION_CODE:string'),\n",
    "                                 col('DEST_CITY_NAME').alias('CITY_NAME:string')))\\\n",
    "                   .distinct()"
   ]
  },
  {
   "cell_type": "code",
   "execution_count": 18,
   "id": "9c06a5f1",
   "metadata": {},
   "outputs": [
    {
     "data": {
      "application/vnd.jupyter.widget-view+json": {
       "model_id": "",
       "version_major": 2,
       "version_minor": 0
      },
      "text/plain": [
       "FloatProgress(value=0.0, bar_style='info', description='Progress:', layout=Layout(height='25px', width='50%'),…"
      ]
     },
     "metadata": {},
     "output_type": "display_data"
    }
   ],
   "source": [
    "# Adding new column with label \"route\", defined as Integer\n",
    "df_vertices_file = df_vertices_file.withColumn('~label', lit('airport'))"
   ]
  },
  {
   "cell_type": "code",
   "execution_count": 19,
   "id": "ef7a78cb",
   "metadata": {},
   "outputs": [
    {
     "data": {
      "application/vnd.jupyter.widget-view+json": {
       "model_id": "",
       "version_major": 2,
       "version_minor": 0
      },
      "text/plain": [
       "FloatProgress(value=0.0, bar_style='info', description='Progress:', layout=Layout(height='25px', width='50%'),…"
      ]
     },
     "metadata": {},
     "output_type": "display_data"
    },
    {
     "name": "stdout",
     "output_type": "stream",
     "text": [
      "+-----+------------------+--------------------+-------+\n",
      "|  ~id|ORIGIN_CODE:string|    CITY_NAME:string| ~label|\n",
      "+-----+------------------+--------------------+-------+\n",
      "|10785|               BTV|      Burlington, VT|airport|\n",
      "|11612|               EVV|      Evansville, IN|airport|\n",
      "|10792|               BUF|         Buffalo, NY|airport|\n",
      "|12953|               LGA|        New York, NY|airport|\n",
      "|11042|               CLE|       Cleveland, OH|airport|\n",
      "|10397|               ATL|         Atlanta, GA|airport|\n",
      "|11617|               EWN|New Bern/Morehead...|airport|\n",
      "|15096|               SYR|        Syracuse, NY|airport|\n",
      "|13487|               MSP|     Minneapolis, MN|airport|\n",
      "|10146|               ABY|          Albany, GA|airport|\n",
      "|11641|               FAY|    Fayetteville, NC|airport|\n",
      "|11433|               DTW|         Detroit, MI|airport|\n",
      "+-----+------------------+--------------------+-------+"
     ]
    }
   ],
   "source": [
    "df_vertices_file.show()"
   ]
  },
  {
   "cell_type": "markdown",
   "id": "f11602e4",
   "metadata": {},
   "source": [
    "#### Writing data to Amazon S3"
   ]
  },
  {
   "cell_type": "code",
   "execution_count": 20,
   "id": "61a5f18c",
   "metadata": {},
   "outputs": [
    {
     "data": {
      "application/vnd.jupyter.widget-view+json": {
       "model_id": "",
       "version_major": 2,
       "version_minor": 0
      },
      "text/plain": [
       "FloatProgress(value=0.0, bar_style='info', description='Progress:', layout=Layout(height='25px', width='50%'),…"
      ]
     },
     "metadata": {},
     "output_type": "display_data"
    }
   ],
   "source": [
    "# Writing data to Amazon S3, to a single file\n",
    "df_vertices_file = df_vertices_file.repartition(1)\n",
    "df_vertices_file.write.mode(\"append\").format(\"csv\").option(\"header\", \"true\").save(s3_vertices_location)"
   ]
  },
  {
   "cell_type": "code",
   "execution_count": null,
   "id": "197f63a1",
   "metadata": {},
   "outputs": [],
   "source": []
  }
 ],
 "metadata": {
  "kernelspec": {
   "display_name": "Sparkmagic (PySpark)",
   "language": "python",
   "name": "pysparkkernel"
  },
  "language_info": {
   "codemirror_mode": {
    "name": "python",
    "version": 3
   },
   "file_extension": ".py",
   "mimetype": "text/x-python",
   "name": "pyspark",
   "pygments_lexer": "python3"
  }
 },
 "nbformat": 4,
 "nbformat_minor": 5
}
